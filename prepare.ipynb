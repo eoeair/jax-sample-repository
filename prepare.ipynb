{
 "cells": [
  {
   "cell_type": "markdown",
   "metadata": {},
   "source": [
    "安装软件包"
   ]
  },
  {
   "cell_type": "code",
   "execution_count": 63,
   "metadata": {},
   "outputs": [
    {
     "name": "stderr",
     "output_type": "stream",
     "text": [
      "/home/pdch/miniforge3/envs/jax/lib/python3.12/pty.py:95: RuntimeWarning: os.fork() was called. os.fork() is incompatible with multithreaded code, and JAX is multithreaded, so this will likely lead to a deadlock.\n",
      "  pid, fd = os.forkpty()\n"
     ]
    },
    {
     "name": "stdout",
     "output_type": "stream",
     "text": [
      "Looking in indexes: https://mirrors.tuna.tsinghua.edu.cn/pypi/web/simple\n",
      "Requirement already satisfied: tensorflow in /home/pdch/miniforge3/envs/jax/lib/python3.12/site-packages (2.18.0)\n",
      "Requirement already satisfied: pillow in /home/pdch/miniforge3/envs/jax/lib/python3.12/site-packages (11.1.0)\n",
      "Requirement already satisfied: flax in /home/pdch/miniforge3/envs/jax/lib/python3.12/site-packages (0.10.2)\n",
      "Requirement already satisfied: jax[cuda12] in /home/pdch/miniforge3/envs/jax/lib/python3.12/site-packages (0.4.38)\n",
      "Requirement already satisfied: absl-py>=1.0.0 in /home/pdch/miniforge3/envs/jax/lib/python3.12/site-packages (from tensorflow) (2.1.0)\n",
      "Requirement already satisfied: astunparse>=1.6.0 in /home/pdch/miniforge3/envs/jax/lib/python3.12/site-packages (from tensorflow) (1.6.3)\n",
      "Requirement already satisfied: flatbuffers>=24.3.25 in /home/pdch/miniforge3/envs/jax/lib/python3.12/site-packages (from tensorflow) (24.12.23)\n",
      "Requirement already satisfied: gast!=0.5.0,!=0.5.1,!=0.5.2,>=0.2.1 in /home/pdch/miniforge3/envs/jax/lib/python3.12/site-packages (from tensorflow) (0.6.0)\n",
      "Requirement already satisfied: google-pasta>=0.1.1 in /home/pdch/miniforge3/envs/jax/lib/python3.12/site-packages (from tensorflow) (0.2.0)\n",
      "Requirement already satisfied: libclang>=13.0.0 in /home/pdch/miniforge3/envs/jax/lib/python3.12/site-packages (from tensorflow) (18.1.1)\n",
      "Requirement already satisfied: opt-einsum>=2.3.2 in /home/pdch/miniforge3/envs/jax/lib/python3.12/site-packages (from tensorflow) (3.4.0)\n",
      "Requirement already satisfied: packaging in /home/pdch/miniforge3/envs/jax/lib/python3.12/site-packages (from tensorflow) (24.2)\n",
      "Requirement already satisfied: protobuf!=4.21.0,!=4.21.1,!=4.21.2,!=4.21.3,!=4.21.4,!=4.21.5,<6.0.0dev,>=3.20.3 in /home/pdch/miniforge3/envs/jax/lib/python3.12/site-packages (from tensorflow) (5.29.3)\n",
      "Requirement already satisfied: requests<3,>=2.21.0 in /home/pdch/miniforge3/envs/jax/lib/python3.12/site-packages (from tensorflow) (2.32.3)\n",
      "Requirement already satisfied: setuptools in /home/pdch/miniforge3/envs/jax/lib/python3.12/site-packages (from tensorflow) (75.1.0)\n",
      "Requirement already satisfied: six>=1.12.0 in /home/pdch/miniforge3/envs/jax/lib/python3.12/site-packages (from tensorflow) (1.16.0)\n",
      "Requirement already satisfied: termcolor>=1.1.0 in /home/pdch/miniforge3/envs/jax/lib/python3.12/site-packages (from tensorflow) (2.5.0)\n",
      "Requirement already satisfied: typing-extensions>=3.6.6 in /home/pdch/miniforge3/envs/jax/lib/python3.12/site-packages (from tensorflow) (4.12.2)\n",
      "Requirement already satisfied: wrapt>=1.11.0 in /home/pdch/miniforge3/envs/jax/lib/python3.12/site-packages (from tensorflow) (1.17.0)\n",
      "Requirement already satisfied: grpcio<2.0,>=1.24.3 in /home/pdch/miniforge3/envs/jax/lib/python3.12/site-packages (from tensorflow) (1.69.0)\n",
      "Requirement already satisfied: tensorboard<2.19,>=2.18 in /home/pdch/miniforge3/envs/jax/lib/python3.12/site-packages (from tensorflow) (2.18.0)\n",
      "Requirement already satisfied: keras>=3.5.0 in /home/pdch/miniforge3/envs/jax/lib/python3.12/site-packages (from tensorflow) (3.8.0)\n",
      "Requirement already satisfied: numpy<2.1.0,>=1.26.0 in /home/pdch/miniforge3/envs/jax/lib/python3.12/site-packages (from tensorflow) (2.0.2)\n",
      "Requirement already satisfied: h5py>=3.11.0 in /home/pdch/miniforge3/envs/jax/lib/python3.12/site-packages (from tensorflow) (3.12.1)\n",
      "Requirement already satisfied: ml-dtypes<0.5.0,>=0.4.0 in /home/pdch/miniforge3/envs/jax/lib/python3.12/site-packages (from tensorflow) (0.4.1)\n",
      "Requirement already satisfied: jaxlib<=0.4.38,>=0.4.38 in /home/pdch/miniforge3/envs/jax/lib/python3.12/site-packages (from jax[cuda12]) (0.4.38)\n",
      "Requirement already satisfied: scipy>=1.10 in /home/pdch/miniforge3/envs/jax/lib/python3.12/site-packages (from jax[cuda12]) (1.15.0)\n",
      "Requirement already satisfied: jax-cuda12-plugin<=0.4.38,>=0.4.38 in /home/pdch/miniforge3/envs/jax/lib/python3.12/site-packages (from jax-cuda12-plugin[with_cuda]<=0.4.38,>=0.4.38; extra == \"cuda12\"->jax[cuda12]) (0.4.38)\n",
      "Requirement already satisfied: msgpack in /home/pdch/miniforge3/envs/jax/lib/python3.12/site-packages (from flax) (1.1.0)\n",
      "Requirement already satisfied: optax in /home/pdch/miniforge3/envs/jax/lib/python3.12/site-packages (from flax) (0.2.4)\n",
      "Requirement already satisfied: orbax-checkpoint in /home/pdch/miniforge3/envs/jax/lib/python3.12/site-packages (from flax) (0.11.0)\n",
      "Requirement already satisfied: tensorstore in /home/pdch/miniforge3/envs/jax/lib/python3.12/site-packages (from flax) (0.1.71)\n",
      "Requirement already satisfied: rich>=11.1 in /home/pdch/miniforge3/envs/jax/lib/python3.12/site-packages (from flax) (13.9.4)\n",
      "Requirement already satisfied: PyYAML>=5.4.1 in /home/pdch/miniforge3/envs/jax/lib/python3.12/site-packages (from flax) (6.0.2)\n",
      "Requirement already satisfied: wheel<1.0,>=0.23.0 in /home/pdch/miniforge3/envs/jax/lib/python3.12/site-packages (from astunparse>=1.6.0->tensorflow) (0.44.0)\n",
      "Requirement already satisfied: jax-cuda12-pjrt==0.4.38 in /home/pdch/miniforge3/envs/jax/lib/python3.12/site-packages (from jax-cuda12-plugin<=0.4.38,>=0.4.38->jax-cuda12-plugin[with_cuda]<=0.4.38,>=0.4.38; extra == \"cuda12\"->jax[cuda12]) (0.4.38)\n",
      "Requirement already satisfied: nvidia-cublas-cu12>=12.1.3.1 in /home/pdch/miniforge3/envs/jax/lib/python3.12/site-packages (from jax-cuda12-plugin[with_cuda]<=0.4.38,>=0.4.38; extra == \"cuda12\"->jax[cuda12]) (12.6.4.1)\n",
      "Requirement already satisfied: nvidia-cuda-cupti-cu12>=12.1.105 in /home/pdch/miniforge3/envs/jax/lib/python3.12/site-packages (from jax-cuda12-plugin[with_cuda]<=0.4.38,>=0.4.38; extra == \"cuda12\"->jax[cuda12]) (12.6.80)\n",
      "Requirement already satisfied: nvidia-cuda-nvcc-cu12>=12.6.85 in /home/pdch/miniforge3/envs/jax/lib/python3.12/site-packages (from jax-cuda12-plugin[with_cuda]<=0.4.38,>=0.4.38; extra == \"cuda12\"->jax[cuda12]) (12.6.85)\n",
      "Requirement already satisfied: nvidia-cuda-runtime-cu12>=12.1.105 in /home/pdch/miniforge3/envs/jax/lib/python3.12/site-packages (from jax-cuda12-plugin[with_cuda]<=0.4.38,>=0.4.38; extra == \"cuda12\"->jax[cuda12]) (12.6.77)\n",
      "Requirement already satisfied: nvidia-cudnn-cu12<10.0,>=9.1 in /home/pdch/miniforge3/envs/jax/lib/python3.12/site-packages (from jax-cuda12-plugin[with_cuda]<=0.4.38,>=0.4.38; extra == \"cuda12\"->jax[cuda12]) (9.6.0.74)\n",
      "Requirement already satisfied: nvidia-cufft-cu12>=11.0.2.54 in /home/pdch/miniforge3/envs/jax/lib/python3.12/site-packages (from jax-cuda12-plugin[with_cuda]<=0.4.38,>=0.4.38; extra == \"cuda12\"->jax[cuda12]) (11.3.0.4)\n",
      "Requirement already satisfied: nvidia-cusolver-cu12>=11.4.5.107 in /home/pdch/miniforge3/envs/jax/lib/python3.12/site-packages (from jax-cuda12-plugin[with_cuda]<=0.4.38,>=0.4.38; extra == \"cuda12\"->jax[cuda12]) (11.7.1.2)\n",
      "Requirement already satisfied: nvidia-cusparse-cu12>=12.1.0.106 in /home/pdch/miniforge3/envs/jax/lib/python3.12/site-packages (from jax-cuda12-plugin[with_cuda]<=0.4.38,>=0.4.38; extra == \"cuda12\"->jax[cuda12]) (12.5.4.2)\n",
      "Requirement already satisfied: nvidia-nccl-cu12>=2.18.1 in /home/pdch/miniforge3/envs/jax/lib/python3.12/site-packages (from jax-cuda12-plugin[with_cuda]<=0.4.38,>=0.4.38; extra == \"cuda12\"->jax[cuda12]) (2.24.3)\n",
      "Requirement already satisfied: nvidia-nvjitlink-cu12>=12.1.105 in /home/pdch/miniforge3/envs/jax/lib/python3.12/site-packages (from jax-cuda12-plugin[with_cuda]<=0.4.38,>=0.4.38; extra == \"cuda12\"->jax[cuda12]) (12.6.85)\n",
      "Requirement already satisfied: namex in /home/pdch/miniforge3/envs/jax/lib/python3.12/site-packages (from keras>=3.5.0->tensorflow) (0.0.8)\n",
      "Requirement already satisfied: optree in /home/pdch/miniforge3/envs/jax/lib/python3.12/site-packages (from keras>=3.5.0->tensorflow) (0.13.1)\n",
      "Requirement already satisfied: charset-normalizer<4,>=2 in /home/pdch/miniforge3/envs/jax/lib/python3.12/site-packages (from requests<3,>=2.21.0->tensorflow) (3.4.1)\n",
      "Requirement already satisfied: idna<4,>=2.5 in /home/pdch/miniforge3/envs/jax/lib/python3.12/site-packages (from requests<3,>=2.21.0->tensorflow) (3.10)\n",
      "Requirement already satisfied: urllib3<3,>=1.21.1 in /home/pdch/miniforge3/envs/jax/lib/python3.12/site-packages (from requests<3,>=2.21.0->tensorflow) (2.3.0)\n",
      "Requirement already satisfied: certifi>=2017.4.17 in /home/pdch/miniforge3/envs/jax/lib/python3.12/site-packages (from requests<3,>=2.21.0->tensorflow) (2024.12.14)\n",
      "Requirement already satisfied: markdown-it-py>=2.2.0 in /home/pdch/miniforge3/envs/jax/lib/python3.12/site-packages (from rich>=11.1->flax) (3.0.0)\n",
      "Requirement already satisfied: pygments<3.0.0,>=2.13.0 in /home/pdch/miniforge3/envs/jax/lib/python3.12/site-packages (from rich>=11.1->flax) (2.15.1)\n",
      "Requirement already satisfied: markdown>=2.6.8 in /home/pdch/miniforge3/envs/jax/lib/python3.12/site-packages (from tensorboard<2.19,>=2.18->tensorflow) (3.7)\n",
      "Requirement already satisfied: tensorboard-data-server<0.8.0,>=0.7.0 in /home/pdch/miniforge3/envs/jax/lib/python3.12/site-packages (from tensorboard<2.19,>=2.18->tensorflow) (0.7.2)\n",
      "Requirement already satisfied: werkzeug>=1.0.1 in /home/pdch/miniforge3/envs/jax/lib/python3.12/site-packages (from tensorboard<2.19,>=2.18->tensorflow) (3.1.3)\n",
      "Requirement already satisfied: chex>=0.1.87 in /home/pdch/miniforge3/envs/jax/lib/python3.12/site-packages (from optax->flax) (0.1.88)\n",
      "Requirement already satisfied: etils[epy] in /home/pdch/miniforge3/envs/jax/lib/python3.12/site-packages (from optax->flax) (1.11.0)\n",
      "Requirement already satisfied: nest_asyncio in /home/pdch/miniforge3/envs/jax/lib/python3.12/site-packages (from orbax-checkpoint->flax) (1.6.0)\n",
      "Requirement already satisfied: humanize in /home/pdch/miniforge3/envs/jax/lib/python3.12/site-packages (from orbax-checkpoint->flax) (4.11.0)\n",
      "Requirement already satisfied: simplejson>=3.16.0 in /home/pdch/miniforge3/envs/jax/lib/python3.12/site-packages (from orbax-checkpoint->flax) (3.19.3)\n",
      "Requirement already satisfied: toolz>=0.9.0 in /home/pdch/miniforge3/envs/jax/lib/python3.12/site-packages (from chex>=0.1.87->optax->flax) (1.0.0)\n",
      "Requirement already satisfied: mdurl~=0.1 in /home/pdch/miniforge3/envs/jax/lib/python3.12/site-packages (from markdown-it-py>=2.2.0->rich>=11.1->flax) (0.1.2)\n",
      "Requirement already satisfied: MarkupSafe>=2.1.1 in /home/pdch/miniforge3/envs/jax/lib/python3.12/site-packages (from werkzeug>=1.0.1->tensorboard<2.19,>=2.18->tensorflow) (3.0.2)\n",
      "Requirement already satisfied: fsspec in /home/pdch/miniforge3/envs/jax/lib/python3.12/site-packages (from etils[epath,epy]->orbax-checkpoint->flax) (2024.12.0)\n",
      "Requirement already satisfied: importlib_resources in /home/pdch/miniforge3/envs/jax/lib/python3.12/site-packages (from etils[epath,epy]->orbax-checkpoint->flax) (6.5.2)\n",
      "Requirement already satisfied: zipp in /home/pdch/miniforge3/envs/jax/lib/python3.12/site-packages (from etils[epath,epy]->orbax-checkpoint->flax) (3.21.0)\n",
      "Note: you may need to restart the kernel to use updated packages.\n"
     ]
    }
   ],
   "source": [
    "%pip install -U tensorflow pillow \"jax[cuda12]\" flax"
   ]
  },
  {
   "cell_type": "markdown",
   "metadata": {},
   "source": [
    "获取NEU Seg数据集"
   ]
  },
  {
   "cell_type": "code",
   "execution_count": 3,
   "metadata": {},
   "outputs": [
    {
     "name": "stdout",
     "output_type": "stream",
     "text": [
      "正克隆到 'data'...\n",
      "remote: Enumerating objects: 8947, done.\u001b[K\n",
      "remote: Counting objects: 100% (2/2), done.\u001b[K\n",
      "remote: Compressing objects: 100% (2/2), done.\u001b[K\n",
      "remote: Total 8947 (delta 0), reused 0 (delta 0), pack-reused 8945 (from 1)\u001b[K\n",
      "接收对象中: 100% (8947/8947), 35.08 MiB | 5.38 MiB/s, 完成.\n"
     ]
    }
   ],
   "source": [
    "!git clone https://github.com/DHW-Master/NEU_Seg.git data && rm -rf data/.git"
   ]
  },
  {
   "cell_type": "markdown",
   "metadata": {},
   "source": [
    "对数据集进行处理"
   ]
  },
  {
   "cell_type": "code",
   "execution_count": 11,
   "metadata": {},
   "outputs": [],
   "source": [
    "import os\n",
    "import numpy as np\n",
    "from PIL import Image\n",
    "\n",
    "# 文件夹路径\n",
    "train_image_dir = 'data/images/training'\n",
    "train_mask_dir = 'data/annotations/training'\n",
    "test_image_dir = 'data/images/test'\n",
    "test_mask_dir = 'data/annotations/test'\n",
    "\n",
    "# 获取文件列表\n",
    "train_images = sorted(os.listdir(train_image_dir))\n",
    "train_masks = sorted(os.listdir(train_mask_dir))\n",
    "test_images = sorted(os.listdir(test_image_dir))\n",
    "test_masks = sorted(os.listdir(test_mask_dir))\n",
    "\n",
    "# 确保文件对应\n",
    "assert len(train_images) == len(train_masks), \"训练图片和掩码数量不一致\"\n",
    "assert len(test_images) == len(test_masks), \"测试图片和掩码数量不一致\"\n",
    "\n",
    "# 完整路径\n",
    "train_image_paths = [os.path.join(train_image_dir, img) for img in train_images]\n",
    "train_mask_paths = [os.path.join(train_mask_dir, msk) for msk in train_masks]\n",
    "test_image_paths = [os.path.join(test_image_dir, img) for img in test_images]\n",
    "test_mask_paths = [os.path.join(test_mask_dir, msk) for msk in test_masks]\n",
    "\n",
    "def load_images(paths):\n",
    "    data = []\n",
    "    for path in paths:\n",
    "        img = Image.open(path).convert('RGB')\n",
    "        img_array = np.array(img)\n",
    "        # img_array = np.transpose(img_array, (2, 0, 1))  # 将通道轴移到最前面\n",
    "        data.append(img_array)\n",
    "    return np.array(data)\n",
    "\n",
    "def load_masks(paths):\n",
    "    data = []\n",
    "    for path in paths:\n",
    "        img = Image.open(path).convert('L')\n",
    "        data.append(np.array(img))\n",
    "    return np.array(data)\n",
    "\n",
    "# 加载并保存训练集\n",
    "train_images = load_images(train_image_paths)\n",
    "train_masks = load_masks(train_mask_paths)\n",
    "np.save('data/train_images.npy', train_images)\n",
    "np.save('data/train_masks.npy', train_masks)\n",
    "\n",
    "# 加载并保存测试集\n",
    "test_images = load_images(test_image_paths)\n",
    "test_masks = load_masks(test_mask_paths)\n",
    "np.save('data/test_images.npy', test_images)\n",
    "np.save('data/test_masks.npy', test_masks)"
   ]
  },
  {
   "cell_type": "markdown",
   "metadata": {},
   "source": [
    "确认jax状态"
   ]
  },
  {
   "cell_type": "code",
   "execution_count": 1,
   "metadata": {},
   "outputs": [
    {
     "name": "stdout",
     "output_type": "stream",
     "text": [
      "JAX running on GPU\n"
     ]
    }
   ],
   "source": [
    "import jax\n",
    "\n",
    "# Show on which platform JAX is running.\n",
    "print(\"JAX running on\", jax.devices()[0].platform.upper())"
   ]
  },
  {
   "cell_type": "markdown",
   "metadata": {},
   "source": [
    "# 运行"
   ]
  },
  {
   "cell_type": "code",
   "execution_count": 19,
   "metadata": {},
   "outputs": [
    {
     "name": "stdout",
     "output_type": "stream",
     "text": [
      "2025-01-17 11:43:38.634151: E external/local_xla/xla/stream_executor/cuda/cuda_fft.cc:477] Unable to register cuFFT factory: Attempting to register factory for plugin cuFFT when one has already been registered\n",
      "WARNING: All log messages before absl::InitializeLog() is called are written to STDERR\n",
      "E0000 00:00:1737085418.642929   20327 cuda_dnn.cc:8310] Unable to register cuDNN factory: Attempting to register factory for plugin cuDNN when one has already been registered\n",
      "E0000 00:00:1737085418.645456   20327 cuda_blas.cc:1418] Unable to register cuBLAS factory: Attempting to register factory for plugin cuBLAS when one has already been registered\n",
      "I0000 00:00:1737085421.465511   20327 gpu_device.cc:2022] Created device /job:localhost/replica:0/task:0/device:GPU:0 with 6195 MB memory:  -> device: 0, name: NVIDIA GeForce RTX 4060 Laptop GPU, pci bus id: 0000:01:00.0, compute capability: 8.9\n",
      "Epoch 1/500: 0it [00:00, ?it/s]<class 'jax._src.interpreters.partial_eval.DynamicJaxprTracer'>\n",
      "Train loss: Traced<ShapedArray(float32[])>with<DynamicJaxprTrace>\n",
      "2025-01-17 11:43:46.863415: W external/xla/xla/tsl/framework/bfc_allocator.cc:310] Allocator (GPU_0_bfc) ran out of memory trying to allocate 50.41GiB with freed_by_count=0. The caller indicates that this is not a failure, but this may mean that there could be performance gains if more memory were available.\n",
      "2025-01-17 11:43:47.722068: W external/xla/xla/tsl/framework/bfc_allocator.cc:310] Allocator (GPU_0_bfc) ran out of memory trying to allocate 19.44GiB with freed_by_count=0. The caller indicates that this is not a failure, but this may mean that there could be performance gains if more memory were available.\n",
      "2025-01-17 11:43:47.792040: W external/xla/xla/tsl/framework/bfc_allocator.cc:310] Allocator (GPU_0_bfc) ran out of memory trying to allocate 6.49GiB with freed_by_count=0. The caller indicates that this is not a failure, but this may mean that there could be performance gains if more memory were available.\n",
      "2025-01-17 11:43:48.126735: W external/xla/xla/tsl/framework/bfc_allocator.cc:310] Allocator (GPU_0_bfc) ran out of memory trying to allocate 75.98GiB with freed_by_count=0. The caller indicates that this is not a failure, but this may mean that there could be performance gains if more memory were available.\n",
      "2025-01-17 11:43:48.198000: W external/xla/xla/tsl/framework/bfc_allocator.cc:310] Allocator (GPU_0_bfc) ran out of memory trying to allocate 25.34GiB with freed_by_count=0. The caller indicates that this is not a failure, but this may mean that there could be performance gains if more memory were available.\n",
      "2025-01-17 11:43:48.252357: W external/xla/xla/tsl/framework/bfc_allocator.cc:310] Allocator (GPU_0_bfc) ran out of memory trying to allocate 25.24GiB with freed_by_count=0. The caller indicates that this is not a failure, but this may mean that there could be performance gains if more memory were available.\n",
      "2025-01-17 11:43:48.405393: W external/xla/xla/tsl/framework/bfc_allocator.cc:310] Allocator (GPU_0_bfc) ran out of memory trying to allocate 25.21GiB with freed_by_count=0. The caller indicates that this is not a failure, but this may mean that there could be performance gains if more memory were available.\n",
      "2025-01-17 11:43:48.585810: W external/xla/xla/tsl/framework/bfc_allocator.cc:310] Allocator (GPU_0_bfc) ran out of memory trying to allocate 25.34GiB with freed_by_count=0. The caller indicates that this is not a failure, but this may mean that there could be performance gains if more memory were available.\n",
      "2025-01-17 11:43:48.834959: W external/xla/xla/tsl/framework/bfc_allocator.cc:310] Allocator (GPU_0_bfc) ran out of memory trying to allocate 75.60GiB with freed_by_count=0. The caller indicates that this is not a failure, but this may mean that there could be performance gains if more memory were available.\n",
      "2025-01-17 11:43:49.117317: W external/xla/xla/tsl/framework/bfc_allocator.cc:310] Allocator (GPU_0_bfc) ran out of memory trying to allocate 6.49GiB with freed_by_count=0. The caller indicates that this is not a failure, but this may mean that there could be performance gains if more memory were available.\n",
      "2025-01-17 11:44:07.672998: W external/xla/xla/tsl/framework/bfc_allocator.cc:501] Allocator (GPU_0_bfc) ran out of memory trying to allocate 1.46GiB (rounded to 1572168192)requested by op \n",
      "2025-01-17 11:44:07.673144: W external/xla/xla/tsl/framework/bfc_allocator.cc:512] *___________________________________________________________________________________________________\n",
      "E0117 11:44:07.673194   20327 pjrt_stream_executor_client.cc:3086] Execution of replica 0 failed: RESOURCE_EXHAUSTED: Out of memory while trying to allocate 1572168136 bytes.\n",
      "Epoch 1/500: 0it [00:22, ?it/s]\n",
      "Traceback (most recent call last):\n",
      "  File \"/home/pdch/workspace/jax sample repository/main.py\", line 155, in <module>\n",
      "    loss = train_step(model, optimizer, train_batch)\n",
      "           ^^^^^^^^^^^^^^^^^^^^^^^^^^^^^^^^^^^^^^^^^\n",
      "  File \"/home/pdch/miniforge3/envs/jax/lib/python3.12/site-packages/flax/nnx/graph.py\", line 1081, in update_context_manager_wrapper\n",
      "    return f(*args, **kwargs)\n",
      "           ^^^^^^^^^^^^^^^^^^\n",
      "  File \"/home/pdch/miniforge3/envs/jax/lib/python3.12/site-packages/flax/nnx/transforms/compilation.py\", line 345, in jit_wrapper\n",
      "    pure_args_out, pure_kwargs_out, pure_out = jitted_fn(\n",
      "                                               ^^^^^^^^^^\n",
      "jaxlib.xla_extension.XlaRuntimeError: RESOURCE_EXHAUSTED: Out of memory while trying to allocate 1572168136 bytes.\n",
      "--------------------\n",
      "For simplicity, JAX has removed its internal frames from the traceback of the following exception. Set JAX_TRACEBACK_FILTERING=off to include these.\n"
     ]
    }
   ],
   "source": [
    "!python main.py"
   ]
  },
  {
   "cell_type": "markdown",
   "metadata": {},
   "source": [
    "清理log"
   ]
  },
  {
   "cell_type": "code",
   "execution_count": 18,
   "metadata": {},
   "outputs": [],
   "source": [
    "!rm -rf work_dir/*"
   ]
  }
 ],
 "metadata": {
  "kernelspec": {
   "display_name": "jax",
   "language": "python",
   "name": "python3"
  },
  "language_info": {
   "codemirror_mode": {
    "name": "ipython",
    "version": 3
   },
   "file_extension": ".py",
   "mimetype": "text/x-python",
   "name": "python",
   "nbconvert_exporter": "python",
   "pygments_lexer": "ipython3",
   "version": "3.12.8"
  }
 },
 "nbformat": 4,
 "nbformat_minor": 2
}
